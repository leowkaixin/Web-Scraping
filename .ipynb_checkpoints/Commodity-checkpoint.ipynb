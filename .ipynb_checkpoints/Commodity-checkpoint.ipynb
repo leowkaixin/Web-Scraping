{
 "cells": [
  {
   "cell_type": "code",
   "execution_count": 1,
   "id": "111af925",
   "metadata": {},
   "outputs": [],
   "source": [
    "# Import necessary libraries\n",
    "from bs4 import BeautifulSoup\n",
    "import pandas as pd\n",
    "import numpy as np\n",
    "import requests\n",
    "from datetime import datetime"
   ]
  },
  {
   "cell_type": "code",
   "execution_count": 2,
   "id": "3270fc86",
   "metadata": {},
   "outputs": [],
   "source": [
    "# Set display options for Pandas DataFrame\n",
    "pd.set_option('display.max_columns', 500)\n",
    "pd.set_option('display.max_rows', 500)"
   ]
  },
  {
   "cell_type": "code",
   "execution_count": 3,
   "id": "e5ad4682",
   "metadata": {},
   "outputs": [],
   "source": [
    "# Define the URL\n",
    "URL = 'https://tradingeconomics.com/forecast/commodity'"
   ]
  },
  {
   "cell_type": "code",
   "execution_count": 4,
   "id": "00399757",
   "metadata": {},
   "outputs": [],
   "source": [
    "#Somtimes you might get error so try adding a browser user agent.\n",
    "#https://deviceatlas.com/blog/list-of-user-agent-strings"
   ]
  },
  {
   "cell_type": "code",
   "execution_count": 5,
   "id": "048274ca",
   "metadata": {},
   "outputs": [],
   "source": [
    "# Define request headers\n",
    "headers = {\n",
    "    \"Connection\": \"keep-alive\",\n",
    "    \"User-Agent\": \"Mozilla/5.0 (Windows NT 10.0; Win64; x64) AppleWebKit/537.36 (KHTML, like Gecko) Chrome/72.0.3626.121 Safari/537.36\"\n",
    "}"
   ]
  },
  {
   "cell_type": "code",
   "execution_count": 6,
   "id": "a2f8e2a7",
   "metadata": {},
   "outputs": [],
   "source": [
    "# Function to extract and clean data from the webpage\n",
    "def extract_and_clean_data(response):\n",
    "    if response.status_code != 200:\n",
    "        print(\"Failed to fetch the webpage.\")\n",
    "        return None\n",
    "    \n",
    "    # Parse the HTML content using BeautifulSoup\n",
    "    soup = BeautifulSoup(response.text, 'html.parser')\n",
    "\n",
    "    # Find the table containing the data\n",
    "    table = soup.find_all('table')[0]\n",
    "\n",
    "    # Extract column titles and clean the list\n",
    "    table_headers = table.find_all('th')    \n",
    "    table_titles = [title.text.strip() for title in table_headers if title.text.strip() != 'Signal']\n",
    "    table_titles = list(filter(None,table_titles))\n",
    "\n",
    "    # Extract and clean data cells\n",
    "    column_data = soup.find_all('td')\n",
    "    data = [row.text.strip() for row in column_data]\n",
    "    data = list(filter(None, data))\n",
    "\n",
    "    # Calculate header length and number of rows\n",
    "    lenofheader = len(table_titles)\n",
    "    lenofrows = len(data) // lenofheader\n",
    "\n",
    "    # Reshape data into a 2D array and create a DataFrame\n",
    "    a = np.reshape(data, (lenofrows, lenofheader))\n",
    "    df = pd.DataFrame(a, columns=table_titles)\n",
    "    \n",
    "    return df"
   ]
  },
  {
   "cell_type": "code",
   "execution_count": 7,
   "id": "f89ccb75",
   "metadata": {},
   "outputs": [],
   "source": [
    "# Function to reshape and clean data\n",
    "def reshape_data(df):\n",
    "    # Define a dictionary for mapping quarter starts\n",
    "    quarter_starts = {'Q1': '01', 'Q2': '04', 'Q3': '07', 'Q4': '10'}\n",
    "    new_column_names = []\n",
    "    \n",
    "    # Generate new column names based on quarters\n",
    "    for col in df.columns[2:]:\n",
    "        quarter = quarter_starts[col.split('/')[0]]\n",
    "        year = '20' + col.split('/')[1]\n",
    "        new_column_names.append(year + quarter)\n",
    "    \n",
    "    # Update DataFrame column names\n",
    "    df.columns = list(df.columns[:2]) + new_column_names\n",
    "    \n",
    "    # Drop the 'Price' column\n",
    "    df = df.drop(columns=['Price'])\n",
    "    \n",
    "    # Melt the DataFrame to reshape it\n",
    "    df = df.melt(id_vars=[\"Energy\"], var_name=\"Date\", value_name=\"Rates\")\n",
    "    \n",
    "    return df"
   ]
  },
  {
   "cell_type": "code",
   "execution_count": 8,
   "id": "aee33e42",
   "metadata": {},
   "outputs": [],
   "source": [
    "# Function to create new rows with dates shifted by one and two months\n",
    "def duplicate_and_change_date(row):\n",
    "    new_row1 = row.copy()\n",
    "    new_row2 = row.copy()\n",
    "    date_obj = pd.to_datetime(row['Date'], format='%Y%m')\n",
    "    new_row1['Date'] = (date_obj + pd.DateOffset(months=1)).strftime('%Y%m')\n",
    "    new_row2['Date'] = (date_obj + pd.DateOffset(months=2)).strftime('%Y%m')\n",
    "    return [new_row1, new_row2]"
   ]
  },
  {
   "cell_type": "code",
   "execution_count": 9,
   "id": "a89037b4",
   "metadata": {},
   "outputs": [
    {
     "name": "stdout",
     "output_type": "stream",
     "text": [
      "\n",
      "Exporting datasets...\n",
      "------------------------\n",
      "Commodity.xlsx exported.\n"
     ]
    }
   ],
   "source": [
    "# Main execution\n",
    "response = requests.get(URL, headers=headers)\n",
    "df = extract_and_clean_data(response)\n",
    "\n",
    "if df is not None:\n",
    "    df = reshape_data(df)\n",
    "    duplicated_df = pd.DataFrame([item for sublist in df.apply(duplicate_and_change_date, axis=1) for item in sublist])\n",
    "    result_df = pd.concat([df, duplicated_df], ignore_index=True)\n",
    "    print('\\nExporting datasets...')                                                  \n",
    "    result_df.to_excel('./output/Commodity.xlsx', index=False)\n",
    "    print('------------------------')\n",
    "    print('Commodity.xlsx exported.')\n",
    "else:\n",
    "    print(\"Failed to fetch the webpage.\")"
   ]
  },
  {
   "cell_type": "code",
   "execution_count": null,
   "id": "1a3fecb0",
   "metadata": {},
   "outputs": [],
   "source": []
  },
  {
   "cell_type": "code",
   "execution_count": null,
   "id": "b73f9e83",
   "metadata": {},
   "outputs": [],
   "source": []
  }
 ],
 "metadata": {
  "kernelspec": {
   "display_name": "Python 3",
   "language": "python",
   "name": "python3"
  },
  "language_info": {
   "codemirror_mode": {
    "name": "ipython",
    "version": 3
   },
   "file_extension": ".py",
   "mimetype": "text/x-python",
   "name": "python",
   "nbconvert_exporter": "python",
   "pygments_lexer": "ipython3",
   "version": "3.8.8"
  }
 },
 "nbformat": 4,
 "nbformat_minor": 5
}
