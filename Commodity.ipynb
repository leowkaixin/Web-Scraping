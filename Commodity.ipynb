{
 "cells": [
  {
   "cell_type": "code",
   "execution_count": 70,
   "id": "111af925",
   "metadata": {},
   "outputs": [],
   "source": [
    "# Importing necessary libraries\n",
    "from bs4 import BeautifulSoup\n",
    "import pandas as pd\n",
    "import numpy as np\n",
    "import requests\n",
    "import datetime\n",
    "import time "
   ]
  },
  {
   "cell_type": "code",
   "execution_count": 46,
   "id": "e5ad4682",
   "metadata": {},
   "outputs": [],
   "source": [
    "# URL of the webpage containing the commodity forecast data\n",
    "URL = 'https://tradingeconomics.com/forecast/commodity'"
   ]
  },
  {
   "cell_type": "code",
   "execution_count": 47,
   "id": "00399757",
   "metadata": {},
   "outputs": [],
   "source": [
    "#Somtimes you might get error so try adding a browser user agent.\n",
    "#https://deviceatlas.com/blog/list-of-user-agent-strings"
   ]
  },
  {
   "cell_type": "code",
   "execution_count": 48,
   "id": "048274ca",
   "metadata": {},
   "outputs": [],
   "source": [
    "# Defining custom headers to simulate a browser visit\n",
    "headers = {\n",
    "    \"Connection\": \"keep-alive\",\n",
    "    \"User-Agent\": \"Mozilla/5.0 (Windows NT 10.0; Win64; x64) AppleWebKit/537.36 (KHTML, like Gecko) Chrome/72.0.3626.121 Safari/537.36\"\n",
    "}\n",
    "\n",
    "# Sending an HTTP GET request to the URL and getting the webpage content\n",
    "page = requests.get(URL, headers=headers)"
   ]
  },
  {
   "cell_type": "code",
   "execution_count": 49,
   "id": "12bc3214",
   "metadata": {},
   "outputs": [],
   "source": [
    "# Parsing the webpage content using BeautifulSoup\n",
    "soup = BeautifulSoup(page.text)"
   ]
  },
  {
   "cell_type": "code",
   "execution_count": 50,
   "id": "1c297866",
   "metadata": {},
   "outputs": [],
   "source": [
    "# Finding the first table on the webpage (index 0), which contains the commodity forecast data\n",
    "table = soup.find_all('table')[0]"
   ]
  },
  {
   "cell_type": "code",
   "execution_count": 51,
   "id": "8aa878fc",
   "metadata": {},
   "outputs": [],
   "source": [
    "# Extracting headers (column titles) from the table\n",
    "table_headers = table.find_all('th')\n",
    "world_table_titles = [title.text.strip() for title in table_headers]"
   ]
  },
  {
   "cell_type": "code",
   "execution_count": 53,
   "id": "a83fc9e4",
   "metadata": {},
   "outputs": [],
   "source": [
    "# Removing unwanted columns and cleaning the list of column titles\n",
    "world_table_titles = list(filter(None,world_table_titles))\n",
    "world_table_titles.remove('Signal')"
   ]
  },
  {
   "cell_type": "code",
   "execution_count": 57,
   "id": "d07a5baa",
   "metadata": {},
   "outputs": [],
   "source": [
    "# Extracting data cells from the table\n",
    "column_data = soup.find_all('td')"
   ]
  },
  {
   "cell_type": "code",
   "execution_count": 80,
   "id": "a62dde59",
   "metadata": {},
   "outputs": [],
   "source": [
    "# Extracting and cleaning data for each row\n",
    "for row in column_data:\n",
    "    data = [row.text.strip() for row in column_data]\n",
    "    data = list(filter(None,data))\n",
    "    \n",
    "    # Calculating the length of header and number of rows\n",
    "    lenofheader = len(world_table_titles)\n",
    "    lenofrows = int(len(data)/lenofheader)\n",
    "    \n",
    "    # Reshaping the data array into a 2D array\n",
    "    a = np.reshape(data, (lenofrows, lenofheader))"
   ]
  },
  {
   "cell_type": "code",
   "execution_count": 81,
   "id": "bfdb8d8c",
   "metadata": {},
   "outputs": [],
   "source": [
    "# Creating a DataFrame using the reshaped data and column titles\n",
    "df = pd.DataFrame(a, columns = world_table_titles)"
   ]
  },
  {
   "cell_type": "code",
   "execution_count": 79,
   "id": "deed6124",
   "metadata": {},
   "outputs": [
    {
     "data": {
      "text/html": [
       "<div>\n",
       "<style scoped>\n",
       "    .dataframe tbody tr th:only-of-type {\n",
       "        vertical-align: middle;\n",
       "    }\n",
       "\n",
       "    .dataframe tbody tr th {\n",
       "        vertical-align: top;\n",
       "    }\n",
       "\n",
       "    .dataframe thead th {\n",
       "        text-align: right;\n",
       "    }\n",
       "</style>\n",
       "<table border=\"1\" class=\"dataframe\">\n",
       "  <thead>\n",
       "    <tr style=\"text-align: right;\">\n",
       "      <th></th>\n",
       "      <th>Energy</th>\n",
       "      <th>Price</th>\n",
       "      <th>Q3/23</th>\n",
       "      <th>Q4/23</th>\n",
       "      <th>Q1/24</th>\n",
       "      <th>Q2/24</th>\n",
       "    </tr>\n",
       "  </thead>\n",
       "  <tbody>\n",
       "    <tr>\n",
       "      <th>0</th>\n",
       "      <td>Crude Oil</td>\n",
       "      <td>80.088</td>\n",
       "      <td>82.563</td>\n",
       "      <td>84.985</td>\n",
       "      <td>87.472</td>\n",
       "      <td>90.039</td>\n",
       "    </tr>\n",
       "    <tr>\n",
       "      <th>1</th>\n",
       "      <td>Brent</td>\n",
       "      <td>84.384</td>\n",
       "      <td>87.105</td>\n",
       "      <td>89.471</td>\n",
       "      <td>91.905</td>\n",
       "      <td>94.406</td>\n",
       "    </tr>\n",
       "    <tr>\n",
       "      <th>2</th>\n",
       "      <td>Natural gas</td>\n",
       "      <td>2.6682</td>\n",
       "      <td>2.7061</td>\n",
       "      <td>2.8750</td>\n",
       "      <td>3.0543</td>\n",
       "      <td>3.2449</td>\n",
       "    </tr>\n",
       "    <tr>\n",
       "      <th>3</th>\n",
       "      <td>Gasoline</td>\n",
       "      <td>2.7871</td>\n",
       "      <td>2.9539</td>\n",
       "      <td>3.0558</td>\n",
       "      <td>3.1612</td>\n",
       "      <td>3.2703</td>\n",
       "    </tr>\n",
       "    <tr>\n",
       "      <th>4</th>\n",
       "      <td>Heating Oil</td>\n",
       "      <td>3.2054</td>\n",
       "      <td>3.4267</td>\n",
       "      <td>3.5401</td>\n",
       "      <td>3.6572</td>\n",
       "      <td>3.7783</td>\n",
       "    </tr>\n",
       "    <tr>\n",
       "      <th>...</th>\n",
       "      <td>...</td>\n",
       "      <td>...</td>\n",
       "      <td>...</td>\n",
       "      <td>...</td>\n",
       "      <td>...</td>\n",
       "      <td>...</td>\n",
       "    </tr>\n",
       "    <tr>\n",
       "      <th>83</th>\n",
       "      <td>SSE Consume Commodity Index</td>\n",
       "      <td>9,676.47</td>\n",
       "      <td>9,385.02</td>\n",
       "      <td>9,225.58</td>\n",
       "      <td>9,069.01</td>\n",
       "      <td>8,914.34</td>\n",
       "    </tr>\n",
       "    <tr>\n",
       "      <th>84</th>\n",
       "      <td>EU Carbon Permits</td>\n",
       "      <td>89.97</td>\n",
       "      <td>86.67</td>\n",
       "      <td>83.82</td>\n",
       "      <td>81.06</td>\n",
       "      <td>78.40</td>\n",
       "    </tr>\n",
       "    <tr>\n",
       "      <th>85</th>\n",
       "      <td>Wind Energy Index</td>\n",
       "      <td>280.68</td>\n",
       "      <td>273.81</td>\n",
       "      <td>269.69</td>\n",
       "      <td>265.66</td>\n",
       "      <td>261.66</td>\n",
       "    </tr>\n",
       "    <tr>\n",
       "      <th>86</th>\n",
       "      <td>Nuclear Energy Index</td>\n",
       "      <td>1,690.30</td>\n",
       "      <td>1,700.87</td>\n",
       "      <td>1,724.03</td>\n",
       "      <td>1,747.52</td>\n",
       "      <td>1,771.18</td>\n",
       "    </tr>\n",
       "    <tr>\n",
       "      <th>87</th>\n",
       "      <td>Solar Energy Index</td>\n",
       "      <td>279.65</td>\n",
       "      <td>271.99</td>\n",
       "      <td>266.12</td>\n",
       "      <td>260.37</td>\n",
       "      <td>254.75</td>\n",
       "    </tr>\n",
       "  </tbody>\n",
       "</table>\n",
       "<p>88 rows × 6 columns</p>\n",
       "</div>"
      ],
      "text/plain": [
       "                         Energy     Price     Q3/23     Q4/23     Q1/24  \\\n",
       "0                     Crude Oil    80.088    82.563    84.985    87.472   \n",
       "1                         Brent    84.384    87.105    89.471    91.905   \n",
       "2                   Natural gas    2.6682    2.7061    2.8750    3.0543   \n",
       "3                      Gasoline    2.7871    2.9539    3.0558    3.1612   \n",
       "4                   Heating Oil    3.2054    3.4267    3.5401    3.6572   \n",
       "..                          ...       ...       ...       ...       ...   \n",
       "83  SSE Consume Commodity Index  9,676.47  9,385.02  9,225.58  9,069.01   \n",
       "84            EU Carbon Permits     89.97     86.67     83.82     81.06   \n",
       "85            Wind Energy Index    280.68    273.81    269.69    265.66   \n",
       "86         Nuclear Energy Index  1,690.30  1,700.87  1,724.03  1,747.52   \n",
       "87           Solar Energy Index    279.65    271.99    266.12    260.37   \n",
       "\n",
       "       Q2/24  \n",
       "0     90.039  \n",
       "1     94.406  \n",
       "2     3.2449  \n",
       "3     3.2703  \n",
       "4     3.7783  \n",
       "..       ...  \n",
       "83  8,914.34  \n",
       "84     78.40  \n",
       "85    261.66  \n",
       "86  1,771.18  \n",
       "87    254.75  \n",
       "\n",
       "[88 rows x 6 columns]"
      ]
     },
     "execution_count": 79,
     "metadata": {},
     "output_type": "execute_result"
    }
   ],
   "source": [
    "df"
   ]
  },
  {
   "cell_type": "code",
   "execution_count": null,
   "id": "0aa2cfd4",
   "metadata": {},
   "outputs": [],
   "source": []
  }
 ],
 "metadata": {
  "kernelspec": {
   "display_name": "Python 3",
   "language": "python",
   "name": "python3"
  },
  "language_info": {
   "codemirror_mode": {
    "name": "ipython",
    "version": 3
   },
   "file_extension": ".py",
   "mimetype": "text/x-python",
   "name": "python",
   "nbconvert_exporter": "python",
   "pygments_lexer": "ipython3",
   "version": "3.8.8"
  }
 },
 "nbformat": 4,
 "nbformat_minor": 5
}
